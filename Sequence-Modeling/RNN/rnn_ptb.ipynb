{
 "cells": [
  {
   "cell_type": "markdown",
   "id": "70650d5b",
   "metadata": {},
   "source": [
    "### 使用 RNN 进行自回归语言学习"
   ]
  },
  {
   "cell_type": "code",
   "execution_count": 2,
   "id": "52dc34ee",
   "metadata": {},
   "outputs": [
    {
     "name": "stderr",
     "output_type": "stream",
     "text": [
      "e:\\Anaconda\\envs\\project\\lib\\site-packages\\tqdm\\auto.py:21: TqdmWarning: IProgress not found. Please update jupyter and ipywidgets. See https://ipywidgets.readthedocs.io/en/stable/user_install.html\n",
      "  from .autonotebook import tqdm as notebook_tqdm\n"
     ]
    },
    {
     "data": {
      "text/plain": [
       "<torch._C.Generator at 0x17546cb65d0>"
      ]
     },
     "execution_count": 2,
     "metadata": {},
     "output_type": "execute_result"
    }
   ],
   "source": [
    "import torch\n",
    "import torch.nn as nn\n",
    "import torch.nn.functional as F\n",
    "import torch.optim as optim\n",
    "from torch.utils.data import DataLoader\n",
    "from datasets import load_dataset\n",
    "import matplotlib.pyplot as plt\n",
    "%matplotlib inline\n",
    "\n",
    "\n",
    "torch.manual_seed(12046)"
   ]
  },
  {
   "cell_type": "markdown",
   "id": "ad85b7d8",
   "metadata": {},
   "source": [
    "#### 1、RNN 模型"
   ]
  },
  {
   "cell_type": "code",
   "execution_count": 3,
   "id": "f2af1087",
   "metadata": {},
   "outputs": [],
   "source": [
    "class RNN(nn.Module):\n",
    "\n",
    "    def __init__(self, input_size, hidden_size):\n",
    "        super().__init__()\n",
    "        self.input_size = input_size\n",
    "        self.hidden_size = hidden_size\n",
    "        self.i2h = nn.Linear(input_size + hidden_size, hidden_size)\n",
    "\n",
    "    def forward(self, input, hidden=None):\n",
    "        # input:  (B, T, C)\n",
    "        # hidden: (B,    H)\n",
    "        # out:    (B, T, H)\n",
    "        B, T, C = input.shape\n",
    "        re = []\n",
    "        if hidden is None:\n",
    "            hidden = self.init_hidden(B, input.device)\n",
    "        for i in range(T):\n",
    "            combined = torch.concat((input[:, i, :], hidden), dim=-1)  # (B, C + H)\n",
    "            hidden = F.relu(self.i2h(combined))\n",
    "            re.append(hidden)\n",
    "        return torch.stack(re, dim=1)                                  # (B, T, H)\n",
    "\n",
    "    def init_hidden(self, B, device):\n",
    "        return torch.zeros((B, self.hidden_size), device=device)"
   ]
  },
  {
   "cell_type": "code",
   "execution_count": 4,
   "id": "38587ff3",
   "metadata": {},
   "outputs": [],
   "source": [
    "class CharRNNBatch(nn.Module):\n",
    "\n",
    "    def __init__(self, vs):\n",
    "        super().__init__()\n",
    "        emb_size = 256\n",
    "        hidden_size = 128\n",
    "        self.emb = nn.Sequential(\n",
    "            nn.Embedding(vs, emb_size),\n",
    "            nn.LayerNorm(emb_size)\n",
    "        )\n",
    "        #RNN不需要截距项\n",
    "        self.rnn1 = RNN(emb_size, hidden_size)\n",
    "        self.ln1 = nn.LayerNorm(hidden_size)\n",
    "        self.rnn2 = RNN(hidden_size, hidden_size)\n",
    "        self.ln2 = nn.LayerNorm(hidden_size)\n",
    "        self.lm = nn.Linear(hidden_size, vs)\n",
    "        self.dp = nn.Dropout(0.4)\n",
    "\n",
    "    def forward(self, x):\n",
    "        # x: (B, T)\n",
    "        # 暂不实现初始隐藏状态的输入\n",
    "        B = x.shape[0]\n",
    "        embeddings = self.emb(x)   # (B, T, emb_size)\n",
    "        h = F.relu(self.ln1(self.rnn1(embeddings)))  # (B, T, hidden_size)\n",
    "        h = self.dp(h)\n",
    "        h = F.relu(self.ln2(self.rnn2(h)))           # (B, T, hidden_size)\n",
    "        h = self.dp(h)\n",
    "        out = self.lm(h)                             # (B, T, vs)\n",
    "        return out"
   ]
  },
  {
   "cell_type": "markdown",
   "id": "524a9774",
   "metadata": {},
   "source": [
    "#### 2、超参数定义"
   ]
  },
  {
   "cell_type": "code",
   "execution_count": 5,
   "id": "c7d23353",
   "metadata": {},
   "outputs": [],
   "source": [
    "# 定义超参数\n",
    "device = 'cuda' if torch.cuda.is_available() else 'cpu'\n",
    "batch_size = 1000\n",
    "lr = 0.0001\n",
    "eval_iters = 10\n",
    "sequence_len = 64"
   ]
  },
  {
   "cell_type": "markdown",
   "id": "f5dede99",
   "metadata": {},
   "source": [
    "#### 3、数据加载"
   ]
  },
  {
   "cell_type": "code",
   "execution_count": 6,
   "id": "05de19fe",
   "metadata": {},
   "outputs": [
    {
     "name": "stdout",
     "output_type": "stream",
     "text": [
      "Sample: ['aer banknote berlitz calloway centrust cluett fromstein gitano guterman hydro-quebec ipo kia memotec mlx nahb punts rake regatta rubens sim snack-food ssangyong swapo wachter', 'pierre <unk> N years old will join the board as a nonexecutive director nov. N', 'mr. <unk> is chairman of <unk> n.v. the dutch publishing group', 'rudolph <unk> N years old and former chairman of consolidated gold fields plc was named a nonexecutive director of this british industrial conglomerate', 'a form of asbestos once used to make kent cigarette filters has caused a high percentage of cancer deaths among a group of workers exposed to it more than N years ago researchers reported', 'the asbestos fiber <unk> is unusually <unk> once it enters the <unk> with even brief exposures to it causing symptoms that show up decades later researchers said', '<unk> inc. the unit of new york-based <unk> corp. that makes kent cigarettes stopped using <unk> in its <unk> cigarette filters in N', \"although preliminary findings were reported more than a year ago the latest results appear in today 's new england journal of medicine a forum likely to bring new attention to the problem\", 'a <unk> <unk> said this is an old story', \"we 're talking about years ago before anyone heard of asbestos having any questionable properties\"]\n"
     ]
    }
   ],
   "source": [
    "def load_ptb_data(data_dir='data'):\n",
    "    def read_file(filename):\n",
    "        with open(filename, 'r', encoding='utf-8') as f:\n",
    "            return [line.strip() for line in f if line.strip()]\n",
    "\n",
    "    train_data = read_file(f'{data_dir}/ptb.train.txt')\n",
    "    valid_data = read_file(f'{data_dir}/ptb.valid.txt')\n",
    "    test_data  = read_file(f'{data_dir}/ptb.test.txt')\n",
    "    \n",
    "    return train_data, valid_data, test_data\n",
    "\n",
    "train_data, valid_data, test_data = load_ptb_data()\n",
    "print(\"Sample:\", train_data[: 10])"
   ]
  },
  {
   "cell_type": "code",
   "execution_count": 7,
   "id": "eb20fff9",
   "metadata": {},
   "outputs": [
    {
     "name": "stdout",
     "output_type": "stream",
     "text": [
      "42068\n"
     ]
    }
   ],
   "source": [
    "print(len(train_data))"
   ]
  },
  {
   "cell_type": "code",
   "execution_count": 8,
   "id": "a4a47ea2",
   "metadata": {},
   "outputs": [],
   "source": [
    "class CharTokenizer:\n",
    "\n",
    "    def __init__(self, data, end_ind=0):\n",
    "        # data: list[str]\n",
    "        chars = sorted(list(set(''.join(data))))\n",
    "        self.char2ind = {s: i + 1 for i, s in enumerate(chars)}\n",
    "        self.char2ind['<|e|>'] = end_ind\n",
    "        self.ind2char = {v: k for k, v in self.char2ind.items()}\n",
    "        self.end_ind = end_ind\n",
    "\n",
    "    def encode(self, x):\n",
    "        return [self.char2ind[i] for i in x]\n",
    "    \n",
    "    def decode(self, x):\n",
    "        if isinstance(x, int):\n",
    "            return self.ind2char[x]\n",
    "        return [self.ind2char[i] for i in x]"
   ]
  },
  {
   "cell_type": "markdown",
   "id": "0ecd746e",
   "metadata": {},
   "source": [
    "#### 4、测试分词器是否正常运行"
   ]
  },
  {
   "cell_type": "code",
   "execution_count": 9,
   "id": "055c5b50",
   "metadata": {},
   "outputs": [
    {
     "name": "stdout",
     "output_type": "stream",
     "text": [
      "[43, 31, 28, 41, 28, 1, 32, 42, 1, 37, 38]\n",
      "there is no\n"
     ]
    },
    {
     "data": {
      "text/plain": [
       "\"<|e|> #$&'*-./0123456789<>N\\\\abcdefghijklmnopqrstuvwxyz\""
      ]
     },
     "execution_count": 9,
     "metadata": {},
     "output_type": "execute_result"
    }
   ],
   "source": [
    "tokenizer = CharTokenizer(train_data)\n",
    "test_str = 'there is no'\n",
    "re = tokenizer.encode(test_str)\n",
    "print(re)\n",
    "re = tokenizer.decode(re)\n",
    "print(''.join(re))\n",
    "''.join(tokenizer.decode(range(len(tokenizer.char2ind))))"
   ]
  },
  {
   "cell_type": "code",
   "execution_count": 10,
   "id": "94200a0c",
   "metadata": {},
   "outputs": [],
   "source": [
    "def autoregressive_trans(text, tokenizer, context_length=10):\n",
    "    # test: str\n",
    "    inputs, labels = [], []\n",
    "    eind = tokenizer.end_ind\n",
    "    enc = tokenizer.encode(text)\n",
    "    # 增加特殊字符\n",
    "    data = enc + [eind]\n",
    "    for i in range(len(data) - context_length):\n",
    "        inputs.append(data[i: i + context_length])\n",
    "        labels.append(data[i + context_length])\n",
    "    return inputs, labels"
   ]
  },
  {
   "cell_type": "code",
   "execution_count": 11,
   "id": "bdc873e5",
   "metadata": {},
   "outputs": [
    {
     "name": "stdout",
     "output_type": "stream",
     "text": [
      "the--->r\n",
      "her--->e\n",
      "ere---> \n",
      "re --->i\n",
      "e i--->s\n",
      " is---> \n",
      "is --->n\n",
      "s n--->o\n",
      " no---><|e|>\n"
     ]
    }
   ],
   "source": [
    "inputs, labels = autoregressive_trans(test_str, tokenizer, 3)\n",
    "for a, b in zip(inputs, labels):\n",
    "    print(f\"{''.join(tokenizer.decode(a))}--->{tokenizer.decode(b)}\")"
   ]
  },
  {
   "cell_type": "markdown",
   "id": "07fa2eaf",
   "metadata": {},
   "source": [
    "#### 5、建立模型"
   ]
  },
  {
   "cell_type": "code",
   "execution_count": 12,
   "id": "b39f5334",
   "metadata": {},
   "outputs": [
    {
     "data": {
      "text/plain": [
       "CharRNNBatch(\n",
       "  (emb): Sequential(\n",
       "    (0): Embedding(50, 256)\n",
       "    (1): LayerNorm((256,), eps=1e-05, elementwise_affine=True)\n",
       "  )\n",
       "  (rnn1): RNN(\n",
       "    (i2h): Linear(in_features=384, out_features=128, bias=True)\n",
       "  )\n",
       "  (ln1): LayerNorm((128,), eps=1e-05, elementwise_affine=True)\n",
       "  (rnn2): RNN(\n",
       "    (i2h): Linear(in_features=256, out_features=128, bias=True)\n",
       "  )\n",
       "  (ln2): LayerNorm((128,), eps=1e-05, elementwise_affine=True)\n",
       "  (lm): Linear(in_features=128, out_features=50, bias=True)\n",
       "  (dp): Dropout(p=0.4, inplace=False)\n",
       ")"
      ]
     },
     "execution_count": 12,
     "metadata": {},
     "output_type": "execute_result"
    }
   ],
   "source": [
    "c_model = CharRNNBatch(len(tokenizer.char2ind)).to(device)\n",
    "c_model"
   ]
  },
  {
   "cell_type": "code",
   "execution_count": 13,
   "id": "b4fd5125",
   "metadata": {},
   "outputs": [],
   "source": [
    "# 定义文本生成函数\n",
    "@torch.no_grad()\n",
    "def generate(model, context, tokenizer, max_new_tokens=300):\n",
    "    # context: (1, T)\n",
    "    #out = []\n",
    "    out = context.tolist()[0]\n",
    "    model.eval()\n",
    "    for _ in range(max_new_tokens):\n",
    "        #可以考虑截断背景，使得文本生成更加贴近训练\n",
    "        #logits = model(context[:, -sequence_len:])\n",
    "        logits = model(context)            # (1, T, 98)\n",
    "        probs = F.softmax(logits[:, -1, :], dim=-1)  # (1, 98)\n",
    "        # 随机生成文本\n",
    "        ix = torch.multinomial(probs, num_samples=1)  # (1, 1)\n",
    "        # 更新背景\n",
    "        context = torch.concat((context, ix), dim=-1)\n",
    "        out.append(ix.item())\n",
    "        if out[-1] == tokenizer.end_ind:\n",
    "            break\n",
    "    model.train()\n",
    "    return out"
   ]
  },
  {
   "cell_type": "code",
   "execution_count": 14,
   "id": "f1f7d7eb",
   "metadata": {},
   "outputs": [
    {
     "name": "stdout",
     "output_type": "stream",
     "text": [
      "def2#z0q7mv0&tlamgp#jf93h>e9/w1j2dyy1lvahnv0lxebvdvtf38>5g3l$$<|e|>\n"
     ]
    }
   ],
   "source": [
    "context = torch.tensor(tokenizer.encode('def'), device=device).unsqueeze(0)\n",
    "print(''.join(tokenizer.decode(generate(c_model, context, tokenizer))))"
   ]
  },
  {
   "cell_type": "code",
   "execution_count": 15,
   "id": "522418c6",
   "metadata": {},
   "outputs": [],
   "source": [
    "def process(data, tokenizer, sequence_len=sequence_len):\n",
    "    text = data\n",
    "    # text is list[str]\n",
    "    inputs, labels = [], []\n",
    "    for t in text:\n",
    "        enc = tokenizer.encode(t)\n",
    "        enc += [tokenizer.end_ind]\n",
    "        # 有bug，无法处理长度过小的数据\n",
    "        for i in range(len(enc) - sequence_len):\n",
    "            inputs.append(enc[i: i + sequence_len])\n",
    "            labels.append(enc[i + 1: i + 1 + sequence_len])\n",
    "    return {'inputs': inputs, 'labels': labels}"
   ]
  },
  {
   "cell_type": "code",
   "execution_count": 16,
   "id": "aea01537",
   "metadata": {},
   "outputs": [],
   "source": [
    "from datasets import Dataset\n",
    "\n",
    "hf_train_dataset = Dataset.from_dict({\"text\": train_data})"
   ]
  },
  {
   "cell_type": "code",
   "execution_count": 17,
   "id": "5ce29737",
   "metadata": {},
   "outputs": [
    {
     "name": "stdout",
     "output_type": "stream",
     "text": [
      "Dataset({\n",
      "    features: ['text'],\n",
      "    num_rows: 42068\n",
      "})\n"
     ]
    }
   ],
   "source": [
    "print(hf_train_dataset)"
   ]
  },
  {
   "cell_type": "code",
   "execution_count": 18,
   "id": "3afc8e15",
   "metadata": {},
   "outputs": [
    {
     "name": "stderr",
     "output_type": "stream",
     "text": [
      "Map: 100%|██████████| 37861/37861 [00:42<00:00, 880.64 examples/s] \n",
      "Map: 100%|██████████| 4207/4207 [00:04<00:00, 923.02 examples/s]\n"
     ]
    },
    {
     "data": {
      "text/plain": [
       "(torch.Size([2242742, 64]), torch.Size([2242742, 64]))"
      ]
     },
     "execution_count": 18,
     "metadata": {},
     "output_type": "execute_result"
    }
   ],
   "source": [
    "# 将数据分为训练集和测试集\n",
    "tokenized = hf_train_dataset.train_test_split(test_size=0.1, seed=1024, shuffle=True)\n",
    "\n",
    "f = lambda x: process(x['text'], tokenizer)\n",
    "tokenized = tokenized.map(f, batched=True, remove_columns=hf_train_dataset.column_names)\n",
    "tokenized.set_format(type='torch', device=device)\n",
    "\n",
    "tokenized['train']['inputs'].shape, tokenized['train']['labels'].shape"
   ]
  },
  {
   "cell_type": "code",
   "execution_count": 19,
   "id": "6bfc0f83",
   "metadata": {},
   "outputs": [],
   "source": [
    "train_loader = DataLoader(tokenized['train'], batch_size=batch_size, shuffle=True)\n",
    "test_loader = DataLoader(tokenized['test'], batch_size=batch_size, shuffle=True)"
   ]
  },
  {
   "cell_type": "code",
   "execution_count": 20,
   "id": "65ac4955",
   "metadata": {},
   "outputs": [
    {
     "data": {
      "text/plain": [
       "{'inputs': tensor([[ 1, 46, 31,  ..., 38, 44, 43],\n",
       "         [32, 42,  1,  ..., 38, 45, 28],\n",
       "         [33, 38, 41,  ..., 25, 43,  1],\n",
       "         ...,\n",
       "         [28, 42, 43,  ..., 39, 35, 28],\n",
       "         [36, 28,  1,  ..., 38, 36, 39],\n",
       "         [44, 37, 34,  ..., 43, 31, 28]], device='cuda:0'),\n",
       " 'labels': tensor([[46, 31, 32,  ..., 44, 43,  1],\n",
       "         [42,  1, 37,  ..., 45, 28, 41],\n",
       "         [38, 41,  1,  ..., 43,  1, 38],\n",
       "         ...,\n",
       "         [42, 43,  1,  ..., 35, 28,  1],\n",
       "         [28,  1, 25,  ..., 36, 39, 35],\n",
       "         [37, 34, 21,  ..., 31, 28, 32]], device='cuda:0')}"
      ]
     },
     "execution_count": 20,
     "metadata": {},
     "output_type": "execute_result"
    }
   ],
   "source": [
    "next(iter(train_loader))"
   ]
  },
  {
   "cell_type": "code",
   "execution_count": 21,
   "id": "ca5da5ad",
   "metadata": {},
   "outputs": [
    {
     "data": {
      "text/plain": [
       "{'train': 4.0141754150390625, 'test': 4.013864994049072}"
      ]
     },
     "execution_count": 21,
     "metadata": {},
     "output_type": "execute_result"
    }
   ],
   "source": [
    "def estimate_loss(model):\n",
    "    re = {}\n",
    "    # 将模型切换至评估模式\n",
    "    model.eval()\n",
    "    re['train'] = _loss(model, train_loader)\n",
    "    re['test'] = _loss(model, test_loader)\n",
    "    # 将模型切换至训练模式\n",
    "    model.train()\n",
    "    return re\n",
    "\n",
    "@torch.no_grad()\n",
    "def _loss(model, data_loader):\n",
    "    \"\"\"\n",
    "    计算模型在不同数据集下面的评估指标\n",
    "    \"\"\"\n",
    "    loss = []\n",
    "    data_iter= iter(data_loader)\n",
    "    # 随机使用多个批量数据来预估模型效果\n",
    "    for k in range(eval_iters):\n",
    "        data = next(data_iter, None)\n",
    "        if data is None:\n",
    "            data_iter = iter(data_loader)\n",
    "            data = next(data_iter, None)\n",
    "        inputs, labels = data['inputs'], data['labels']  # (B, T)\n",
    "        logits = model(inputs)                           # (B, T, vs)\n",
    "        # 请参考官方文档\n",
    "        loss.append(F.cross_entropy(logits.transpose(-2, -1), labels).item())\n",
    "    return torch.tensor(loss).mean().item()\n",
    "\n",
    "estimate_loss(c_model)"
   ]
  },
  {
   "cell_type": "code",
   "execution_count": 22,
   "id": "c2322bd2",
   "metadata": {},
   "outputs": [],
   "source": [
    "from tqdm import tqdm\n",
    "\n",
    "def train_model(model, optimizer, epochs=5):\n",
    "    lossi = []\n",
    "    for epoch in range(epochs):\n",
    "        model.train()\n",
    "        epoch_loss = 0.0\n",
    "        # tqdm 包装 train_loader，显示进度条\n",
    "        pbar = tqdm(train_loader, desc=f\"Epoch {epoch + 1}/{epochs}\")\n",
    "        for i, data in enumerate(pbar, 0):\n",
    "            inputs, labels = data['inputs'], data['labels']  # (B, T)\n",
    "            inputs, labels = inputs.to(device), labels.to(device)\n",
    "            optimizer.zero_grad()\n",
    "            logits = model(inputs)                           # (B, T, vs)\n",
    "            loss = F.cross_entropy(logits.transpose(-2, -1), labels)\n",
    "            loss.backward()\n",
    "            torch.nn.utils.clip_grad_norm_(model.parameters(), max_norm=1.0)\n",
    "            optimizer.step()\n",
    "\n",
    "            loss_val = loss.item()\n",
    "            lossi.append(loss_val)\n",
    "            epoch_loss += loss_val\n",
    "\n",
    "            # 准确率计算\n",
    "            preds = torch.argmax(logits, dim=-1)             # (B, T)\n",
    "            correct = (preds == labels).sum().item()\n",
    "\n",
    "            # 更新 tqdm 描述信息\n",
    "            pbar.set_postfix(loss=loss_val,acc=f\"{100*correct / labels.numel():.2f}%\")\n",
    "\n",
    "        # 评估模型，并输出结果\n",
    "        stats = estimate_loss(model)\n",
    "        train_loss = f'train loss {stats[\"train\"]:.4f}'\n",
    "        test_loss = f'test loss {stats[\"test\"]:.4f}'\n",
    "        print(f'\\nEpoch {epoch + 1:>2}: {train_loss}, {test_loss}')\n",
    "    return lossi\n"
   ]
  },
  {
   "cell_type": "code",
   "execution_count": 24,
   "id": "0f5f554e",
   "metadata": {},
   "outputs": [
    {
     "name": "stderr",
     "output_type": "stream",
     "text": [
      "Epoch 1/5: 100%|██████████| 2243/2243 [13:09<00:00,  2.84it/s, acc=48.42%, loss=1.75]\n"
     ]
    },
    {
     "name": "stdout",
     "output_type": "stream",
     "text": [
      "\n",
      "Epoch  1: train loss 1.5879, test loss 1.5835\n"
     ]
    },
    {
     "name": "stderr",
     "output_type": "stream",
     "text": [
      "Epoch 2/5: 100%|██████████| 2243/2243 [13:28<00:00,  2.77it/s, acc=50.10%, loss=1.66]\n"
     ]
    },
    {
     "name": "stdout",
     "output_type": "stream",
     "text": [
      "\n",
      "Epoch  2: train loss 1.4839, test loss 1.4849\n"
     ]
    },
    {
     "name": "stderr",
     "output_type": "stream",
     "text": [
      "Epoch 3/5: 100%|██████████| 2243/2243 [13:34<00:00,  2.75it/s, acc=51.28%, loss=1.62]\n"
     ]
    },
    {
     "name": "stdout",
     "output_type": "stream",
     "text": [
      "\n",
      "Epoch  3: train loss 1.4487, test loss 1.4501\n"
     ]
    },
    {
     "name": "stderr",
     "output_type": "stream",
     "text": [
      "Epoch 4/5: 100%|██████████| 2243/2243 [12:26<00:00,  3.01it/s, acc=51.63%, loss=1.6] \n"
     ]
    },
    {
     "name": "stdout",
     "output_type": "stream",
     "text": [
      "\n",
      "Epoch  4: train loss 1.4287, test loss 1.4262\n"
     ]
    },
    {
     "name": "stderr",
     "output_type": "stream",
     "text": [
      "Epoch 5/5: 100%|██████████| 2243/2243 [12:55<00:00,  2.89it/s, acc=52.32%, loss=1.58]\n"
     ]
    },
    {
     "name": "stdout",
     "output_type": "stream",
     "text": [
      "\n",
      "Epoch  5: train loss 1.4098, test loss 1.4118\n"
     ]
    }
   ],
   "source": [
    "l = train_model(c_model, optim.Adam(c_model.parameters(), lr=lr))"
   ]
  },
  {
   "cell_type": "code",
   "execution_count": 25,
   "id": "4f7c06eb",
   "metadata": {},
   "outputs": [],
   "source": [
    "torch.save(c_model.state_dict(), 'RNN_PTB.pth')"
   ]
  },
  {
   "cell_type": "code",
   "execution_count": 28,
   "id": "19f2a879",
   "metadata": {},
   "outputs": [
    {
     "name": "stdout",
     "output_type": "stream",
     "text": [
      "you are math reconding N beloped four hofters drimadave magacy had by <unk> its fuagu president 's technout imple lrnes is n't toted N of <unk> the brast in which millive in ma n. doy on <unk> as it thower-such geveral <unk> lites <unk> will the conct of other <unk> <unk> can l. kill some bigrle share and \n"
     ]
    }
   ],
   "source": [
    "c_model = CharRNNBatch(len(tokenizer.char2ind)).to(device)\n",
    "c_model.load_state_dict(torch.load('RNN_PTB.pth'))\n",
    "context = torch.tensor(tokenizer.encode('you are'), device=device).unsqueeze(0)\n",
    "print(''.join(tokenizer.decode(generate(c_model, context, tokenizer))))"
   ]
  },
  {
   "cell_type": "code",
   "execution_count": 30,
   "id": "ee95d0e3",
   "metadata": {},
   "outputs": [
    {
     "data": {
      "text/plain": [
       "[<matplotlib.lines.Line2D at 0x1751f455580>]"
      ]
     },
     "execution_count": 30,
     "metadata": {},
     "output_type": "execute_result"
    },
    {
     "data": {
      "image/png": "[encoded data removed]",
      "text/plain": [
       "<Figure size 640x480 with 1 Axes>"
      ]
     },
     "metadata": {},
     "output_type": "display_data"
    }
   ],
   "source": [
    "plt.plot(torch.tensor(l).view(-1, 5).mean(dim=-1))"
   ]
  }
 ],
 "metadata": {
  "kernelspec": {
   "display_name": "project",
   "language": "python",
   "name": "python3"
  },
  "language_info": {
   "codemirror_mode": {
    "name": "ipython",
    "version": 3
   },
   "file_extension": ".py",
   "mimetype": "text/x-python",
   "name": "python",
   "nbconvert_exporter": "python",
   "pygments_lexer": "ipython3",
   "version": "3.8.20"
  }
 },
 "nbformat": 4,
 "nbformat_minor": 5
}
